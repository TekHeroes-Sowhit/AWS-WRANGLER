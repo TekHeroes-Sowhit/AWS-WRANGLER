{
 "cells": [
  {
   "cell_type": "code",
   "execution_count": null,
   "metadata": {},
   "outputs": [],
   "source": [
    "# awswrangler has two ways to set global configurations that will override the regular default arguments configured in functions signatures.\n",
    "\n",
    "# Environment variables\n",
    "\n",
    "# wr.config"
   ]
  },
  {
   "cell_type": "code",
   "execution_count": null,
   "metadata": {},
   "outputs": [],
   "source": [
    "# Environment Variables"
   ]
  },
  {
   "cell_type": "code",
   "execution_count": null,
   "metadata": {},
   "outputs": [],
   "source": [
    "%env WR_DATABASE=default\n",
    "%env WR_CTAS_APPROACH=False\n",
    "%env WR_MAX_CACHE_SECONDS=900\n",
    "%env WR_MAX_CACHE_QUERY_INSPECTIONS=500\n",
    "%env WR_MAX_REMOTE_CACHE_ENTRIES=50\n",
    "%env WR_MAX_LOCAL_CACHE_ENTRIES=100"
   ]
  },
  {
   "cell_type": "code",
   "execution_count": null,
   "metadata": {},
   "outputs": [],
   "source": [
    "import botocore\n",
    "import awswrangler as wr"
   ]
  },
  {
   "cell_type": "code",
   "execution_count": null,
   "metadata": {},
   "outputs": [],
   "source": [
    "wr.athena.read_sql_query(\"SELECT 1 AS FOO\")"
   ]
  },
  {
   "cell_type": "code",
   "execution_count": null,
   "metadata": {},
   "outputs": [],
   "source": [
    "# Resetting"
   ]
  },
  {
   "cell_type": "code",
   "execution_count": null,
   "metadata": {},
   "outputs": [],
   "source": [
    "# Specific\n",
    "wr.config.reset(\"database\")\n",
    "# All\n",
    "wr.config.reset()"
   ]
  },
  {
   "cell_type": "code",
   "execution_count": null,
   "metadata": {},
   "outputs": [],
   "source": [
    "# wr.config"
   ]
  },
  {
   "cell_type": "code",
   "execution_count": null,
   "metadata": {},
   "outputs": [],
   "source": [
    "wr.config.database = \"default\"\n",
    "wr.config.ctas_approach = False\n",
    "wr.config.max_cache_seconds = 900\n",
    "wr.config.max_cache_query_inspections = 500\n",
    "wr.config.max_remote_cache_entries = 50\n",
    "wr.config.max_local_cache_entries = 100\n",
    "# Set botocore.config.Config that will be used for all boto3 calls\n",
    "wr.config.botocore_config = botocore.config.Config(\n",
    "    retries={\"max_attempts\": 10}, connect_timeout=20, max_pool_connections=20\n",
    ")"
   ]
  },
  {
   "cell_type": "code",
   "execution_count": null,
   "metadata": {},
   "outputs": [],
   "source": [
    "wr.athena.read_sql_query(\"SELECT 1 AS FOO\")"
   ]
  },
  {
   "cell_type": "code",
   "execution_count": null,
   "metadata": {},
   "outputs": [],
   "source": [
    "wr.config"
   ]
  }
 ],
 "metadata": {
  "language_info": {
   "name": "python"
  }
 },
 "nbformat": 4,
 "nbformat_minor": 2
}
