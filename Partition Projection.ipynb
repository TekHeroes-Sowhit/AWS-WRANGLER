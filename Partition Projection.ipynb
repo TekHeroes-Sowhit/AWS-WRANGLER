{
 "cells": [
  {
   "cell_type": "code",
   "execution_count": null,
   "metadata": {},
   "outputs": [],
   "source": [
    "# Partition Projection"
   ]
  },
  {
   "cell_type": "code",
   "execution_count": null,
   "metadata": {},
   "outputs": [],
   "source": [
    "import getpass\n",
    "from datetime import datetime\n",
    "import pandas as pd\n",
    "import awswrangler as wr"
   ]
  },
  {
   "cell_type": "code",
   "execution_count": null,
   "metadata": {},
   "outputs": [],
   "source": [
    "bucket = getpass.getpass()"
   ]
  },
  {
   "cell_type": "code",
   "execution_count": null,
   "metadata": {},
   "outputs": [],
   "source": [
    "# Integer projection"
   ]
  },
  {
   "cell_type": "code",
   "execution_count": null,
   "metadata": {},
   "outputs": [],
   "source": [
    "df = pd.DataFrame({\"value\": [1, 2, 3], \"year\": [2019, 2020, 2021], \"month\": [10, 11, 12], \"day\": [25, 26, 27]})\n",
    "df"
   ]
  },
  {
   "cell_type": "code",
   "execution_count": null,
   "metadata": {},
   "outputs": [],
   "source": [
    "# Integer projection"
   ]
  },
  {
   "cell_type": "code",
   "execution_count": null,
   "metadata": {},
   "outputs": [],
   "source": [
    "df = pd.DataFrame({\"value\": [1, 2, 3], \"year\": [2019, 2020, 2021], \"month\": [10, 11, 12], \"day\": [25, 26, 27]})\n",
    "df"
   ]
  },
  {
   "cell_type": "code",
   "execution_count": null,
   "metadata": {},
   "outputs": [],
   "source": [
    "wr.s3.to_parquet(\n",
    "    df=df,\n",
    "    path=f\"s3://{bucket}/table_integer/\",\n",
    "    dataset=True,\n",
    "    partition_cols=[\"year\", \"month\", \"day\"],\n",
    "    database=\"default\",\n",
    "    table=\"table_integer\",\n",
    "    athena_partition_projection_settings={\n",
    "        \"projection_types\": {\"year\": \"integer\", \"month\": \"integer\", \"day\": \"integer\"},\n",
    "        \"projection_ranges\": {\"year\": \"2000,2025\", \"month\": \"1,12\", \"day\": \"1,31\"},\n",
    "    },\n",
    ")"
   ]
  },
  {
   "cell_type": "code",
   "execution_count": null,
   "metadata": {},
   "outputs": [],
   "source": [
    "wr.athena.read_sql_query(\"SELECT * FROM table_integer\", database=\"default\")"
   ]
  },
  {
   "cell_type": "code",
   "execution_count": null,
   "metadata": {},
   "outputs": [],
   "source": [
    "# Enum projection"
   ]
  },
  {
   "cell_type": "code",
   "execution_count": null,
   "metadata": {},
   "outputs": [],
   "source": [
    "df = pd.DataFrame(\n",
    "    {\n",
    "        \"value\": [1, 2, 3],\n",
    "        \"city\": [\"São Paulo\", \"Tokio\", \"Seattle\"],\n",
    "    }\n",
    ")\n",
    "df"
   ]
  },
  {
   "cell_type": "code",
   "execution_count": null,
   "metadata": {},
   "outputs": [],
   "source": [
    "wr.s3.to_parquet(\n",
    "    df=df,\n",
    "    path=f\"s3://{bucket}/table_enum/\",\n",
    "    dataset=True,\n",
    "    partition_cols=[\"city\"],\n",
    "    database=\"default\",\n",
    "    table=\"table_enum\",\n",
    "    athena_partition_projection_settings={\n",
    "        \"projection_types\": {\n",
    "            \"city\": \"enum\",\n",
    "        },\n",
    "        \"projection_values\": {\"city\": \"São Paulo,Tokio,Seattle\"},\n",
    "    },\n",
    ")"
   ]
  },
  {
   "cell_type": "code",
   "execution_count": null,
   "metadata": {},
   "outputs": [],
   "source": [
    "wr.athena.read_sql_query(\"SELECT * FROM table_enum\", database=\"default\")"
   ]
  },
  {
   "cell_type": "code",
   "execution_count": null,
   "metadata": {},
   "outputs": [],
   "source": [
    "# Date projection"
   ]
  },
  {
   "cell_type": "code",
   "execution_count": null,
   "metadata": {},
   "outputs": [],
   "source": [
    "def ts(x):\n",
    "    return datetime.strptime(x, \"%Y-%m-%d %H:%M:%S\")\n",
    "\n",
    "\n",
    "def dt(x):\n",
    "    return datetime.strptime(x, \"%Y-%m-%d\").date()\n",
    "\n",
    "\n",
    "df = pd.DataFrame(\n",
    "    {\n",
    "        \"value\": [1, 2, 3],\n",
    "        \"dt\": [dt(\"2020-01-01\"), dt(\"2020-01-02\"), dt(\"2020-01-03\")],\n",
    "        \"ts\": [ts(\"2020-01-01 00:00:00\"), ts(\"2020-01-01 00:00:01\"), ts(\"2020-01-01 00:00:02\")],\n",
    "    }\n",
    ")"
   ]
  },
  {
   "cell_type": "code",
   "execution_count": null,
   "metadata": {},
   "outputs": [],
   "source": [
    "wr.s3.to_parquet(\n",
    "    df=df,\n",
    "    path=f\"s3://{bucket}/table_date/\",\n",
    "    dataset=True,\n",
    "    partition_cols=[\"dt\", \"ts\"],\n",
    "    database=\"default\",\n",
    "    table=\"table_date\",\n",
    "    athena_partition_projection_settings={\n",
    "        \"projection_types\": {\n",
    "            \"dt\": \"date\",\n",
    "            \"ts\": \"date\",\n",
    "        },\n",
    "        \"projection_ranges\": {\"dt\": \"2020-01-01,2020-01-03\", \"ts\": \"2020-01-01 00:00:00,2020-01-01 00:00:02\"},\n",
    "    },\n",
    ")"
   ]
  },
  {
   "cell_type": "code",
   "execution_count": null,
   "metadata": {},
   "outputs": [],
   "source": [
    "wr.athena.read_sql_query(\"SELECT * FROM table_date\", database=\"default\")"
   ]
  },
  {
   "cell_type": "code",
   "execution_count": null,
   "metadata": {},
   "outputs": [],
   "source": [
    "# Injected projection"
   ]
  },
  {
   "cell_type": "code",
   "execution_count": null,
   "metadata": {},
   "outputs": [],
   "source": [
    "df = pd.DataFrame(\n",
    "    {\n",
    "        \"value\": [1, 2, 3],\n",
    "        \"uuid\": [\n",
    "            \"761e2488-a078-11ea-bb37-0242ac130002\",\n",
    "            \"b89ed095-8179-4635-9537-88592c0f6bc3\",\n",
    "            \"87adc586-ce88-4f0a-b1c8-bf8e00d32249\",\n",
    "        ],\n",
    "    }\n",
    ")\n",
    "\n",
    "df"
   ]
  },
  {
   "cell_type": "code",
   "execution_count": null,
   "metadata": {},
   "outputs": [],
   "source": [
    "wr.s3.to_parquet(\n",
    "    df=df,\n",
    "    path=f\"s3://{bucket}/table_injected/\",\n",
    "    dataset=True,\n",
    "    partition_cols=[\"uuid\"],\n",
    "    database=\"default\",\n",
    "    table=\"table_injected\",\n",
    "    athena_partition_projection_settings={\n",
    "        \"projection_types\": {\n",
    "            \"uuid\": \"injected\",\n",
    "        }\n",
    "    },\n",
    ")"
   ]
  },
  {
   "cell_type": "code",
   "execution_count": null,
   "metadata": {},
   "outputs": [],
   "source": [
    "wr.athena.read_sql_query(\n",
    "    sql=\"SELECT * FROM table_injected WHERE uuid='b89ed095-8179-4635-9537-88592c0f6bc3'\", database=\"default\"\n",
    ")"
   ]
  },
  {
   "cell_type": "code",
   "execution_count": null,
   "metadata": {},
   "outputs": [],
   "source": [
    "Cleaning Up"
   ]
  },
  {
   "cell_type": "code",
   "execution_count": null,
   "metadata": {},
   "outputs": [],
   "source": [
    "wr.s3.delete_objects(f\"s3://{bucket}/table_integer/\")\n",
    "wr.s3.delete_objects(f\"s3://{bucket}/table_enum/\")\n",
    "wr.s3.delete_objects(f\"s3://{bucket}/table_date/\")\n",
    "wr.s3.delete_objects(f\"s3://{bucket}/table_injected/\")"
   ]
  },
  {
   "cell_type": "code",
   "execution_count": null,
   "metadata": {},
   "outputs": [],
   "source": [
    "wr.catalog.delete_table_if_exists(table=\"table_integer\", database=\"default\")\n",
    "wr.catalog.delete_table_if_exists(table=\"table_enum\", database=\"default\")\n",
    "wr.catalog.delete_table_if_exists(table=\"table_date\", database=\"default\")\n",
    "wr.catalog.delete_table_if_exists(table=\"table_injected\", database=\"default\") Amazon Athena"
   ]
  }
 ],
 "metadata": {
  "language_info": {
   "name": "python"
  }
 },
 "nbformat": 4,
 "nbformat_minor": 2
}
